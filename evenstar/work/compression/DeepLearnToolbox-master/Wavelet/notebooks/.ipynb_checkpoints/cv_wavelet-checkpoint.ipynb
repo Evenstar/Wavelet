{
 "metadata": {
  "name": ""
 },
 "nbformat": 3,
 "nbformat_minor": 0,
 "worksheets": [
  {
   "cells": [
    {
     "cell_type": "code",
     "collapsed": false,
     "input": [
      "import numpy as np\n",
      "class Wavelet:\n",
      "    def __init__(self,h=[0.482962913144690,0.836516303737469,0.224143868041857,-0.129409522550921]):\n",
      "        self.h=np.array(h)\n",
      "        self.L=len(h)/2\n",
      "        self.g=np.zeros(self.L*2)\n",
      "        self.p=np.zeros(self.L*2)\n",
      "        self.r=np.zeros(self.L*2)\n",
      "        for k in range(2*self.L):\n",
      "            self.g[k]=(-1)**k*self.h[2*self.L-1-k]\n",
      "            self.p[k]=self.h[2*self.L-1-k]\n",
      "            self.r[k]=(-1)**(k+1)*self.h[k]\n",
      "\n",
      "    def wavedec(self,X):\n",
      "        self.n=len(X)/2\n",
      "        n=self.n\n",
      "        L=self.L\n",
      "        Z=np.zeros(2*(n+L-1))\n",
      "        for i in xrange(n+L-1):\n",
      "            for s in xrange(2*L):\n",
      "                if 2*i-2*L+s+2>=0 and 2*i-2*L+s+2<2*n:\n",
      "                    Z[i]+=self.h[s]*X[2*i-2*L+s+2]\n",
      "                    Z[i+n+L-1]+=self.g[s]*X[2*i-2*L+s+2]\n",
      "        return Z\n",
      "     \n",
      "    def waverec(self, Z):\n",
      "        n=self.n\n",
      "        L=self.L\n",
      "        Y=np.zeros(2*n)\n",
      "        for i in xrange(n):\n",
      "            for s in xrange(L):\n",
      "                Y[2*i]+=Z[s+i]*self.p[2*s+1]+Z[n+L+s+i-1]*self.r[2*s+1]\n",
      "                Y[2*i+1]+=Z[s+i]*self.p[2*s]+Z[n+L+s+i-1]*self.r[2*s]\n",
      "        return Y\n",
      "\n",
      "    "
     ],
     "language": "python",
     "metadata": {},
     "outputs": [],
     "prompt_number": 72
    },
    {
     "cell_type": "code",
     "collapsed": false,
     "input": [
      "import time\n",
      "cv=Wavelet()\n",
      "x=np.random.uniform(-10,10,size=200000)\n",
      "start=time.time()\n",
      "for i in range(1):\n",
      "    z=cv.wavedec(x)\n",
      "    y=cv.waverec(z)\n",
      "    #print np.sum(np.abs(y-x))\n",
      "end=time.time()\n",
      "print end-start"
     ],
     "language": "python",
     "metadata": {},
     "outputs": [
      {
       "output_type": "stream",
       "stream": "stdout",
       "text": [
        "2.48086690903\n"
       ]
      }
     ],
     "prompt_number": 76
    },
    {
     "cell_type": "code",
     "collapsed": false,
     "input": [
      "0 in range(0,3)"
     ],
     "language": "python",
     "metadata": {},
     "outputs": [
      {
       "metadata": {},
       "output_type": "pyout",
       "prompt_number": 46,
       "text": [
        "True"
       ]
      }
     ],
     "prompt_number": 46
    },
    {
     "cell_type": "code",
     "collapsed": false,
     "input": [
      "[2* for x in cv.h]"
     ],
     "language": "python",
     "metadata": {},
     "outputs": [
      {
       "ename": "SyntaxError",
       "evalue": "invalid syntax (<ipython-input-47-4f861d000948>, line 1)",
       "output_type": "pyerr",
       "traceback": [
        "\u001b[0;36m  File \u001b[0;32m\"<ipython-input-47-4f861d000948>\"\u001b[0;36m, line \u001b[0;32m1\u001b[0m\n\u001b[0;31m    [2* for x in cv.h]\u001b[0m\n\u001b[0m          ^\u001b[0m\n\u001b[0;31mSyntaxError\u001b[0m\u001b[0;31m:\u001b[0m invalid syntax\n"
       ]
      }
     ],
     "prompt_number": 47
    },
    {
     "cell_type": "code",
     "collapsed": false,
     "input": [
      "Z=np.zeros(4)\n",
      "Z[0]"
     ],
     "language": "python",
     "metadata": {},
     "outputs": [
      {
       "metadata": {},
       "output_type": "pyout",
       "prompt_number": 25,
       "text": [
        "0.0"
       ]
      }
     ],
     "prompt_number": 25
    },
    {
     "cell_type": "code",
     "collapsed": false,
     "input": [],
     "language": "python",
     "metadata": {},
     "outputs": []
    }
   ],
   "metadata": {}
  }
 ]
}